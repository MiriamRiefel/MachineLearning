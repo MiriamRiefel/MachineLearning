{
 "cells": [
  {
   "cell_type": "markdown",
   "metadata": {},
   "source": [
    "##WEEK 9 ungrad ass Neural Networks\n"
   ]
  },
  {
   "cell_type": "code",
   "execution_count": 19,
   "metadata": {
    "collapsed": false
   },
   "outputs": [
    {
     "name": "stdout",
     "output_type": "stream",
     "text": [
      "Populating the interactive namespace from numpy and matplotlib\n"
     ]
    }
   ],
   "source": [
    "%pylab inline"
   ]
  },
  {
   "cell_type": "markdown",
   "metadata": {},
   "source": [
    "To use the Neural Networks package you first need to install the scikit-neuralnetwork. Install it through your Anaconda Navigator to avoid version mismatches. You can find the documentation here: \n",
    "http://scikit-learn.org/stable/modules/neural_networks_supervised.html"
   ]
  },
  {
   "cell_type": "code",
   "execution_count": 20,
   "metadata": {
    "collapsed": true
   },
   "outputs": [],
   "source": [
    "#In this notebook we will work with the, commonly used, Iris dataset. \n",
    "#Please read the description of the dataset here:\n",
    "#http://scikit-learn.org/stable/auto_examples/datasets/plot_iris_dataset.html\n",
    "\n",
    "#First we import all the modules that you need for this exrecise\n",
    "from sklearn import datasets # to load the dataset\n",
    "from sklearn.preprocessing import StandardScaler # to normalize data (NN is very sensitive to this!)\n",
    "from sklearn.model_selection import train_test_split #to split in train and test set\n",
    "from sklearn.linear_model import LogisticRegression #logistic regression classifier\n",
    "from sklearn.neural_network import MLPClassifier # neural network classifier\n",
    "from sklearn.model_selection import cross_val_score #BONUS: to tune parameters using cross-validation"
   ]
  },
  {
   "cell_type": "code",
   "execution_count": 21,
   "metadata": {
    "collapsed": false
   },
   "outputs": [],
   "source": [
    "#Step 1: Load Iris dataset.\n",
    "iris = datasets.load_iris()"
   ]
  },
  {
   "cell_type": "code",
   "execution_count": 22,
   "metadata": {
    "collapsed": false
   },
   "outputs": [
    {
     "name": "stdout",
     "output_type": "stream",
     "text": [
      "150 4\n"
     ]
    }
   ],
   "source": [
    "#Step 2: Save the features (data) and the labels (target) in separate variables.\n",
    "x = iris.data\n",
    "y = iris.target\n",
    "#number of examples\n",
    "m = len(x)\n",
    "#number of features\n",
    "n = len(x[0])\n",
    "print(m,n)\n"
   ]
  },
  {
   "cell_type": "code",
   "execution_count": 23,
   "metadata": {
    "collapsed": false
   },
   "outputs": [],
   "source": [
    "#Step 3: Normalize your data. Do it 'by hand' using a for-loop or use the StandardScaler() function.\n",
    "scaler = StandardScaler()\n",
    "x = scaler.fit_transform(x)"
   ]
  },
  {
   "cell_type": "code",
   "execution_count": 36,
   "metadata": {
    "collapsed": false
   },
   "outputs": [],
   "source": [
    "#Step 4: Split the dataset in train and test sets. \n",
    "xtrain = x[0:104]\n",
    "xtest = x[105:]\n",
    "ytrain = y[0:104]\n",
    "ytest = y[105:]"
   ]
  },
  {
   "cell_type": "code",
   "execution_count": 37,
   "metadata": {
    "collapsed": false
   },
   "outputs": [],
   "source": [
    "#Step 5: Load logistic regression.\n",
    "# Study in the documentation all the arguments that the function takes as input and returns as output.\n",
    "LR = LogisticRegression(max_iter = 10000)\n",
    "# Choose some initial values to start with and experiment with them after you get to Step 8.\n",
    "NN = MLPClassifier(max_iter = 10000)"
   ]
  },
  {
   "cell_type": "code",
   "execution_count": 40,
   "metadata": {
    "collapsed": false
   },
   "outputs": [
    {
     "data": {
      "text/plain": [
       "LogisticRegression(C=1.0, class_weight=None, dual=False, fit_intercept=True,\n",
       "          intercept_scaling=1, max_iter=10000, multi_class='ovr', n_jobs=1,\n",
       "          penalty='l2', random_state=None, solver='liblinear', tol=0.0001,\n",
       "          verbose=0, warm_start=False)"
      ]
     },
     "execution_count": 40,
     "metadata": {},
     "output_type": "execute_result"
    }
   ],
   "source": [
    "# Step 7: Training\n",
    "# Train both classifier, uising fit() function.\n",
    "LR.fit(xtrain, ytrain, sample_weight=None)"
   ]
  },
  {
   "cell_type": "code",
   "execution_count": 41,
   "metadata": {
    "collapsed": false
   },
   "outputs": [
    {
     "data": {
      "text/plain": [
       "MLPClassifier(activation='relu', alpha=0.0001, batch_size='auto', beta_1=0.9,\n",
       "       beta_2=0.999, early_stopping=False, epsilon=1e-08,\n",
       "       hidden_layer_sizes=(100,), learning_rate='constant',\n",
       "       learning_rate_init=0.001, max_iter=10000, momentum=0.9,\n",
       "       nesterovs_momentum=True, power_t=0.5, random_state=None,\n",
       "       shuffle=True, solver='adam', tol=0.0001, validation_fraction=0.1,\n",
       "       verbose=False, warm_start=False)"
      ]
     },
     "execution_count": 41,
     "metadata": {},
     "output_type": "execute_result"
    }
   ],
   "source": [
    "NN.fit(xtrain, ytrain)"
   ]
  },
  {
   "cell_type": "code",
   "execution_count": 42,
   "metadata": {
    "collapsed": false
   },
   "outputs": [
    {
     "name": "stdout",
     "output_type": "stream",
     "text": [
      "traininset prediction scores are:\n",
      "0.961538461538\n",
      "1.0\n",
      "testset prediction scores are:\n",
      "0.0\n",
      "0.711111111111\n"
     ]
    }
   ],
   "source": [
    "# Step 8: Testing/Prediction\n",
    "# Print the score for both classifiers on the test set, using score() function.\n",
    "print(\"traininset prediction scores are:\")\n",
    "print(LR.score(xtrain, ytrain, sample_weight=None))\n",
    "print(NN.score(xtrain, ytrain, sample_weight=None))\n",
    "print(\"testset prediction scores are:\")\n",
    "print(LR.score(xtest, ytest, sample_weight=None))\n",
    "print(NN.score(xtest, ytest, sample_weight=None))\n"
   ]
  },
  {
   "cell_type": "code",
   "execution_count": null,
   "metadata": {
    "collapsed": true
   },
   "outputs": [],
   "source": []
  },
  {
   "cell_type": "code",
   "execution_count": null,
   "metadata": {
    "collapsed": true
   },
   "outputs": [],
   "source": [
    "# BONUS Step 9: Look at your cross validation error \n",
    "# and discover how to tune your NN parameters with cross validation\n",
    "# Print the scores and also print the mean (accuracy) and std (95% confidence interval) of your scores\n"
   ]
  },
  {
   "cell_type": "code",
   "execution_count": null,
   "metadata": {
    "collapsed": true
   },
   "outputs": [],
   "source": []
  },
  {
   "cell_type": "code",
   "execution_count": null,
   "metadata": {
    "collapsed": true
   },
   "outputs": [],
   "source": []
  }
 ],
 "metadata": {
  "kernelspec": {
   "display_name": "Python 3",
   "language": "python",
   "name": "python3"
  },
  "language_info": {
   "codemirror_mode": {
    "name": "ipython",
    "version": 3
   },
   "file_extension": ".py",
   "mimetype": "text/x-python",
   "name": "python",
   "nbconvert_exporter": "python",
   "pygments_lexer": "ipython3",
   "version": "3.6.0"
  }
 },
 "nbformat": 4,
 "nbformat_minor": 2
}
