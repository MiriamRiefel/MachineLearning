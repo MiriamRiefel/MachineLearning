{
 "cells": [
  {
   "cell_type": "markdown",
   "metadata": {},
   "source": [
    "# Graded Lab Assignment 2: Evaluate classifiers (10 points)\n",
    " \n",
    "In this assignment you will optimize and compare the perfomance of a parametric (logistic regression) and non-parametric (k-nearest neighbours) classifier on the MNIST dataset.\n",
    "\n",
    "Publish your notebook (ipynb file) to your Machine Learning repository on Github ON TIME. We will check the last commit on the day of the deadline.  \n",
    "\n",
    "### Deadline Friday, November 17, 23:59.\n",
    "\n",
    "This notebook consists of three parts: design, implementation, results & analysis. \n",
    "We provide you with the design of the experiment and you have to implement it and analyse the results.\n",
    "\n",
    "### Criteria used for grading\n",
    "* Explain and analyse all results.\n",
    "* Make your notebook easy to read. When you are finished take your time to review it!\n",
    "* You do not want to repeat the same chunks of code multiply times. If your need to do so, write a function. \n",
    "* The implementation part of this assignment needs careful design before you start coding. You could start by writing pseudocode.\n",
    "* In this exercise the insights are important. Do not hide them somewhere in the comments in the implementation, but put them in the Analysis part\n",
    "* Take care that all the figures and tables are well labeled and numbered so that you can easily refer to them.\n",
    "* A plot should have a title and axes labels.\n",
    "* You may find that not everything is 100% specified in this assignment. That is correct! Like in real life you probably have to make some choices. Motivate your choices.\n"
   ]
  },
  {
   "cell_type": "markdown",
   "metadata": {},
   "source": [
    "### Grading points distribution\n",
    "\n",
    "* Implementation 5 points\n",
    "* Results and analysis 5 points"
   ]
  },
  {
   "cell_type": "markdown",
   "metadata": {},
   "source": [
    "## Design of the experiment"
   ]
  },
  {
   "cell_type": "markdown",
   "metadata": {},
   "source": [
    "You do not have to keep the order of this design and are allowed to alter it if you are confident.\n",
    "* Import all necessary modules. Try to use as much of the available functions as possible. \n",
    "* Use the provided train and test set of MNIST dataset.\n",
    "* Pre-process data eg. normalize/standardize, reformat, etc.           \n",
    "  Do whatever you think is necessary and motivate your choices.\n",
    "* (1) Train logistic regression and k-nn using default settings.\n",
    "* Use 10-fold cross validation for each classifier to optimize the performance for one parameter: \n",
    "    * consult the documentation on how cross validation works in sklearn (important functions:             cross_val_score(), GridSearchCV()).\n",
    "    * Optimize k for k-nn,\n",
    "    * for logistic regression focus on the regularization parameter,\n",
    "* (2) Train logistic regression and k-nn using optimized parameters.\n",
    "* Show performance on the cross-validation set for (1) and (2) for both classifiers: \n",
    "    * report the average cross validation error rates (alternatively, the average accuracies - it's up to you) and standard deviation,\n",
    "    * plot the average cross valildation errors (or accuracies) for different values of the parameter that you tuned. \n",
    "* Compare performance on the test set for two classifiers:\n",
    "    * produce the classification report for both classifiers, consisting of precision, recall, f1-score. Explain and analyse the results.\n",
    "    * print confusion matrix for both classifiers and compare whether they missclassify the same  classes. Explain and analyse the results.\n",
    "* Discuss your results.\n",
    "* BONUS: only continue with this part if you are confident that your implemention is complete \n",
    "    * tune more parameters of logistic regression\n",
    "    * add additional classifiers (NN, Naive Bayes, decision tree), \n",
    "    * analyse additional dataset (ex. Iris dataset)"
   ]
  },
  {
   "cell_type": "markdown",
   "metadata": {},
   "source": [
    "## Implementation of the experiment"
   ]
  },
  {
   "cell_type": "code",
   "execution_count": 6,
   "metadata": {
    "collapsed": false
   },
   "outputs": [
    {
     "name": "stdout",
     "output_type": "stream",
     "text": [
      "Populating the interactive namespace from numpy and matplotlib\n"
     ]
    }
   ],
   "source": [
    "%pylab inline\n",
    "import numpy as np\n",
    "from sklearn import svm\n",
    "\n",
    "# importing learning functions\n",
    "from sklearn.linear_model import LogisticRegression #logistic regression classifier\n",
    "from sklearn.model_selection import KFold, cross_val_score, GridSearchCV #to tune parameters using cross-validation\n",
    "from scipy.spatial import distance #to calculate the Euclidean distance\n",
    "from collections import Counter #to count unique occurances of items in array, for majority voting\n",
    "from sklearn.neighbors import KNeighborsClassifier # KNN classifier\n",
    "from sklearn.datasets import load_digits # the dataset\n",
    "\n",
    "# load mnist dataset and split in train and test set.\n",
    "digits = load_digits()\n",
    "x_train_mnist = reshape(digits.images[:1500],(1500,64))\n",
    "x_test_mnist = reshape(digits.images[1500:],(297,64))\n",
    "y_train_mnist = digits.target[:1500]\n",
    "y_test_mnist = digits.target[1500:]\n",
    "\n",
    "# your implementation here"
   ]
  },
  {
   "cell_type": "code",
   "execution_count": 7,
   "metadata": {
    "collapsed": false
   },
   "outputs": [
    {
     "name": "stdout",
     "output_type": "stream",
     "text": [
      "(1500, 64)\n",
      "(297, 64)\n"
     ]
    }
   ],
   "source": [
    "# I first want to see what my data looks like\n",
    "print(shape(x_train_mnist))\n",
    "print(shape(x_test_mnist))\n"
   ]
  },
  {
   "cell_type": "code",
   "execution_count": 8,
   "metadata": {
    "collapsed": false
   },
   "outputs": [],
   "source": [
    "# normalisation of the input, in order to prevent biasing the learning process. \n",
    "# I have made a general function, because this needs to happen for the train and test set\n",
    "def standard(x):\n",
    "    x = x - mean(x)\n",
    "    x = x/ std(x)\n",
    "    return x"
   ]
  },
  {
   "cell_type": "code",
   "execution_count": 9,
   "metadata": {
    "collapsed": false
   },
   "outputs": [
    {
     "name": "stdout",
     "output_type": "stream",
     "text": [
      "[[-0.8135586  -0.8135586   0.01971206 ..., -0.8135586  -0.8135586\n",
      "  -0.8135586 ]\n",
      " [-0.8135586  -0.8135586  -0.8135586  ...,  0.85298272 -0.8135586\n",
      "  -0.8135586 ]\n",
      " [-0.8135586  -0.8135586  -0.8135586  ...,  1.85290751  0.68632859\n",
      "  -0.8135586 ]\n",
      " ..., \n",
      " [-0.8135586  -0.8135586  -0.8135586  ...,  0.68632859 -0.8135586\n",
      "  -0.8135586 ]\n",
      " [-0.8135586  -0.64690447  0.68632859 ...,  0.68632859 -0.64690447\n",
      "  -0.8135586 ]\n",
      " [-0.8135586   0.01971206  1.85290751 ...,  0.51967445  0.18636619\n",
      "  -0.8135586 ]]\n"
     ]
    }
   ],
   "source": [
    "# normalisation\n",
    "x_train_mnist = standard(x_train_mnist)\n",
    "x_test_mnist = standard(x_test_mnist)\n",
    "# I want to see whether it outputs what I want\n",
    "print(x_train_mnist)"
   ]
  },
  {
   "cell_type": "code",
   "execution_count": 10,
   "metadata": {
    "collapsed": false
   },
   "outputs": [
    {
     "name": "stdout",
     "output_type": "stream",
     "text": [
      "LogisticRegression(C=1.0, class_weight=None, dual=False, fit_intercept=True,\n",
      "          intercept_scaling=1, max_iter=100, multi_class='ovr', n_jobs=1,\n",
      "          penalty='l2', random_state=None, solver='liblinear', tol=0.0001,\n",
      "          verbose=0, warm_start=False)\n"
     ]
    }
   ],
   "source": [
    "# logistic regression: default parameters\n",
    "LR = LogisticRegression()\n",
    "print(LR.fit(x_train_mnist, y_train_mnist, sample_weight=None))"
   ]
  },
  {
   "cell_type": "code",
   "execution_count": 11,
   "metadata": {
    "collapsed": false
   },
   "outputs": [
    {
     "name": "stdout",
     "output_type": "stream",
     "text": [
      "traininset prediction scores are:\n",
      "0.988666666667\n"
     ]
    }
   ],
   "source": [
    "print(\"traininset prediction scores are:\")\n",
    "print(LR.score(x_train_mnist, y_train_mnist, sample_weight=None))"
   ]
  },
  {
   "cell_type": "code",
   "execution_count": 12,
   "metadata": {
    "collapsed": false
   },
   "outputs": [
    {
     "data": {
      "text/plain": [
       "<generator object _BaseKFold.split at 0x000001821B6BC150>"
      ]
     },
     "execution_count": 12,
     "metadata": {},
     "output_type": "execute_result"
    }
   ],
   "source": [
    "# split my training set into 10 folds, in order to get a better fit in classifcation\n",
    "k_fold = KFold(n_splits=10)\n",
    "k_fold.split(x_train_mnist)"
   ]
  },
  {
   "cell_type": "code",
   "execution_count": 89,
   "metadata": {
    "collapsed": false
   },
   "outputs": [],
   "source": [
    "# testing logistic regression over different values of C: regularisatoin parameter\n",
    "param_grid = {'C': [0.0001, 0.001, 0.01, 0.1, 1, 10, 100] }\n",
    "grid = GridSearchCV(estimator=LR, param_grid=param_grid)\n",
    "grid.fit(x_train_mnist, y_train_mnist)\n",
    "clf = GridSearchCV(LR, param_grid)"
   ]
  },
  {
   "cell_type": "code",
   "execution_count": 90,
   "metadata": {
    "collapsed": false
   },
   "outputs": [
    {
     "name": "stdout",
     "output_type": "stream",
     "text": [
      "0.932\n",
      "LogisticRegression(C=1, class_weight=None, dual=False, fit_intercept=True,\n",
      "          intercept_scaling=1, max_iter=100, multi_class='ovr', n_jobs=1,\n",
      "          penalty='l2', random_state=None, solver='liblinear', tol=0.0001,\n",
      "          verbose=0, warm_start=False)\n"
     ]
    }
   ],
   "source": [
    "print(grid.best_score_)\n",
    "# I want to find the best parameter, so that the model will fit the data well. \n",
    "print(grid.best_estimator_)"
   ]
  },
  {
   "cell_type": "code",
   "execution_count": 15,
   "metadata": {
    "collapsed": false
   },
   "outputs": [
    {
     "name": "stdout",
     "output_type": "stream",
     "text": [
      "KNeighborsClassifier(algorithm='auto', leaf_size=30, metric='minkowski',\n",
      "           metric_params=None, n_jobs=1, n_neighbors=2, p=2,\n",
      "           weights='uniform')\n"
     ]
    }
   ],
   "source": [
    "# k-Nearest Neighbor: default setting with 2 nearest neighbors\n",
    "KNN = KNeighborsClassifier(n_neighbors=2)\n",
    "print(KNN.fit(x_train_mnist, y_train_mnist))"
   ]
  },
  {
   "cell_type": "code",
   "execution_count": 16,
   "metadata": {
    "collapsed": false
   },
   "outputs": [
    {
     "name": "stdout",
     "output_type": "stream",
     "text": [
      "KNN traininset prediction scores are:\n",
      "0.991333333333\n"
     ]
    }
   ],
   "source": [
    "print(\"KNN trainingset prediction scores are:\")\n",
    "print(KNN.score(x_train_mnist, y_train_mnist))"
   ]
  },
  {
   "cell_type": "code",
   "execution_count": 17,
   "metadata": {
    "collapsed": false
   },
   "outputs": [],
   "source": [
    "# testing k-nearest neighbor over different values of k: the number of neighbors\n",
    "param_grid = { 'n_neighbors' : [1,2,3,4,5,6]}\n",
    "grid = GridSearchCV(estimator=KNN, param_grid=param_grid)\n",
    "grid.fit(x_train_mnist, y_train_mnist)\n",
    "clf = GridSearchCV(KNN, param_grid)"
   ]
  },
  {
   "cell_type": "code",
   "execution_count": 18,
   "metadata": {
    "collapsed": false
   },
   "outputs": [
    {
     "name": "stdout",
     "output_type": "stream",
     "text": [
      "0.960666666667\n",
      "KNeighborsClassifier(algorithm='auto', leaf_size=30, metric='minkowski',\n",
      "           metric_params=None, n_jobs=1, n_neighbors=1, p=2,\n",
      "           weights='uniform')\n"
     ]
    }
   ],
   "source": [
    "# I want to find the best parameter, so that the model will fit the data well.\n",
    "print(grid.best_score_)\n",
    "print(grid.best_estimator_)"
   ]
  },
  {
   "cell_type": "markdown",
   "metadata": {},
   "source": [
    "## Results and analysis of the experiment"
   ]
  },
  {
   "cell_type": "code",
   "execution_count": 63,
   "metadata": {
    "collapsed": true
   },
   "outputs": [],
   "source": [
    "#Now I will plot accuracies for different values of K in my CV set for KNN classification\n",
    "def accuracies():\n",
    "    score = np.array([])\n",
    "    for k in np.array([1,2,3,4,5,6]):\n",
    "        KNN = KNeighborsClassifier(n_neighbors=k)\n",
    "        KNN.fit(x_train_mnist, y_train_mnist)\n",
    "        score = np.append(score, KNN.score(x_train_mnist,y_train_mnist,sample_weight=None))\n",
    "    return score\n",
    "        "
   ]
  },
  {
   "cell_type": "code",
   "execution_count": 71,
   "metadata": {
    "collapsed": false
   },
   "outputs": [
    {
     "data": {
      "image/png": "[encoded data removed]",
      "text/plain": [
       "<matplotlib.figure.Figure at 0x1821d13bdd8>"
      ]
     },
     "metadata": {},
     "output_type": "display_data"
    }
   ],
   "source": [
    "import matplotlib.pyplot as plt\n",
    "plt.plot([1, 2, 3, 4, 5, 6], accuracies(), 'ro')\n",
    "plt.axis([0, 7, 0.98, 1.01])\n",
    "plt.xlabel('k')\n",
    "plt.ylabel('accuracy')\n",
    "plt.suptitle('Accuracy scores K-Nearest Neighbor')\n",
    "plt.show()"
   ]
  },
  {
   "cell_type": "code",
   "execution_count": 78,
   "metadata": {
    "collapsed": true
   },
   "outputs": [],
   "source": [
    "#plot the average cross valildation errors (or accuracies) for different values of the parameter that you used\n",
    "def accuraciesLR():\n",
    "    score = np.array([])\n",
    "    for c in np.array([0.0001, 0.001, 0.01, 0.1, 1, 10, 100]):\n",
    "        LR = LogisticRegression(C=c)\n",
    "        LR.fit(x_train_mnist, y_train_mnist)\n",
    "        score = np.append(score, LR.score(x_train_mnist,y_train_mnist,sample_weight=None))\n",
    "    return score"
   ]
  },
  {
   "cell_type": "code",
   "execution_count": 96,
   "metadata": {
    "collapsed": false
   },
   "outputs": [
    {
     "data": {
      "image/png": "[encoded data removed]",
      "text/plain": [
       "<matplotlib.figure.Figure at 0x1821878ef28>"
      ]
     },
     "metadata": {},
     "output_type": "display_data"
    }
   ],
   "source": [
    "plt.plot([1,2,3,4,5,6,7], accuraciesLR(), 'ro')\n",
    "plt.xlabel('0.0001        0.001       0.01          0.1          1             10           100')\n",
    "plt.ylabel('accuracy')\n",
    "plt.suptitle('Accuracy scores logistic Regression, dependent on C')\n",
    "plt.show()"
   ]
  },
  {
   "cell_type": "code",
   "execution_count": 21,
   "metadata": {
    "collapsed": false
   },
   "outputs": [
    {
     "name": "stdout",
     "output_type": "stream",
     "text": [
      "LogisticRegression(C=1, class_weight=None, dual=False, fit_intercept=True,\n",
      "          intercept_scaling=1, max_iter=100, multi_class='ovr', n_jobs=1,\n",
      "          penalty='l2', random_state=None, solver='liblinear', tol=0.0001,\n",
      "          verbose=0, warm_start=False)\n",
      "LR trainingset prediction scores using optimised C are:\n",
      "0.988666666667\n",
      "LR testset prediction scores using optimised C are:\n",
      "0.895622895623\n"
     ]
    }
   ],
   "source": [
    "# Using the optimal parameter to create a new model with LR. \n",
    "LR = LogisticRegression(C=1)\n",
    "print(LR.fit(x_train_mnist, y_train_mnist, sample_weight=None))\n",
    "print(\"LR trainingset prediction scores using optimised C are:\")\n",
    "print(LR.score(x_train_mnist, y_train_mnist, sample_weight=None))\n",
    "# I also want to use this optimised model on the test set, to do a final test of my LR model\n",
    "print(\"LR testset prediction scores using optimised C are:\")\n",
    "print(LR.score(x_test_mnist, y_test_mnist, sample_weight=None))"
   ]
  },
  {
   "cell_type": "code",
   "execution_count": 108,
   "metadata": {
    "collapsed": false
   },
   "outputs": [
    {
     "name": "stdout",
     "output_type": "stream",
     "text": [
      "KNeighborsClassifier(algorithm='auto', leaf_size=30, metric='minkowski',\n",
      "           metric_params=None, n_jobs=1, n_neighbors=1, p=2,\n",
      "           weights='uniform')\n",
      "KNN trainingset prediction scores using optimised k are:\n",
      "1.0\n",
      "KNN testset prediction scores using optimised k are:\n",
      "0.942760942761\n"
     ]
    }
   ],
   "source": [
    "# Using the optimal parameter to create a new model with kNN. \n",
    "KNN = KNeighborsClassifier(n_neighbors=1)\n",
    "print(KNN.fit(x_train_mnist, y_train_mnist))\n",
    "print(\"KNN trainingset prediction scores using optimised k are:\")\n",
    "print(KNN.score(x_train_mnist, y_train_mnist, sample_weight=None))\n",
    "# I also want to use this optimised model on the test set, to do a final test of my KNN model\n",
    "print(\"KNN testset prediction scores using optimised k are:\")\n",
    "print(KNN.score(x_test_mnist, y_test_mnist, sample_weight=None))"
   ]
  },
  {
   "cell_type": "code",
   "execution_count": 119,
   "metadata": {
    "collapsed": false
   },
   "outputs": [
    {
     "name": "stdout",
     "output_type": "stream",
     "text": [
      "k-NearestNeighbor scores: \n",
      "precision = 0.945756665325\n",
      "recall = 0.943612623935\n",
      "fscore = 0.942691278818\n",
      "\n",
      "Logistic Regression scores: \n",
      "precision = 0.900340706582\n",
      "recall = 0.897804465546\n",
      "fscore = 0.89570003054\n"
     ]
    }
   ],
   "source": [
    "from sklearn.metrics import precision_recall_fscore_support\n",
    "y_true = y_test_mnist\n",
    "KNN = KNeighborsClassifier(n_neighbors=1)\n",
    "KNN.fit(x_train_mnist, y_train_mnist)\n",
    "y_pred = KNN.predict(x_test_mnist)\n",
    "score = precision_recall_fscore_support(y_true, y_pred, average=None)\n",
    "print(\"k-NearestNeighbor scores: \")\n",
    "print(\"precision =\" , average(score[0]))\n",
    "print(\"recall =\" , average(score[1]))\n",
    "print(\"fscore =\" , average(score[2]))\n",
    "print(\"\")\n",
    "\n",
    "LR = LogisticRegression(C=1)\n",
    "LR.fit(x_train_mnist, y_train_mnist, sample_weight=None)\n",
    "y_pred = LR.predict(x_test_mnist)\n",
    "score = precision_recall_fscore_support(y_true, y_pred, average=None)\n",
    "print(\"Logistic Regression scores: \")\n",
    "print(\"precision =\" , average(score[0]))\n",
    "print(\"recall =\" , average(score[1]))\n",
    "print(\"fscore =\" , average(score[2]))"
   ]
  },
  {
   "cell_type": "markdown",
   "metadata": {},
   "source": [
    "# analysis"
   ]
  },
  {
   "cell_type": "markdown",
   "metadata": {
    "collapsed": true
   },
   "source": [
    "In this experiment, I have prepared the data through sorting they training- and testsets and regularising their values. The initial classification tasks had high prediction scores (LR = 0.99, KNN = 0.99) This was mainly because the model was tested on the same data it was trained on. After the data set was split into 10 folds, using the k_fold method, the models are less prone to overfitting, because it is using a cross-validation method and thus not testing on the same data as trained on. This explains why, even after some parameters were optimised, the prediction scores for both LR and k-NN were lower (LR = 0.93, KNN = 0.96). These were, although more realistic than the initial scores, still based on the training/cross-validation set. I visualised the cross-validation process for both classification methods in graphs. Then I tested the models on the testset. This yielded a prediction score of 0.90 for LR and 0.94 for KNN. \n",
    "\n",
    "In the overview we can see that for the k-NN model, precision, recall and fscore all approximately have the same value. Precision is the proportion of true positives to false positives. Recall is the proportion of true positives to false negatives. This means that the number of false positives and false negatives is approximately the same. The f-score gives the weighted harmonic mean of the precision and the proportion. \n",
    "\n",
    "For the LR model, precision is slightly higher than the recall. This means that the number of false positives is slightly higher than false negatives. \n",
    "\n",
    "The k-Nearest Neighbor classification model performs better on this data. All test scores are higher than the test scores of Logistic Regression. \n"
   ]
  },
  {
   "cell_type": "code",
   "execution_count": null,
   "metadata": {
    "collapsed": true
   },
   "outputs": [],
   "source": []
  }
 ],
 "metadata": {
  "kernelspec": {
   "display_name": "Python 3",
   "language": "python",
   "name": "python3"
  },
  "language_info": {
   "codemirror_mode": {
    "name": "ipython",
    "version": 3
   },
   "file_extension": ".py",
   "mimetype": "text/x-python",
   "name": "python",
   "nbconvert_exporter": "python",
   "pygments_lexer": "ipython3",
   "version": "3.6.0"
  }
 },
 "nbformat": 4,
 "nbformat_minor": 2
}
