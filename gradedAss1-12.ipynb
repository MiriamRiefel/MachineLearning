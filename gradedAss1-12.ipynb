{
 "cells": [
  {
   "cell_type": "markdown",
   "metadata": {
    "raw_mimetype": "text/markdown"
   },
   "source": [
    "# Graded Lab Assignment: Logistic Regression (10 points)\n",
    "\n",
    "In this assignment you will classify hand-written digits using logistic regression.\n",
    "\n",
    "The assignment follows Andrew Ng's explanation of Logistic Regression and (re)watching his videos could be useful (Week 3)\n",
    "\n",
    "Publish your notebook (ipynb file) to your Machine Learning repository on Github ON TIME. We will check the last commit on the day of the deadline. \n",
    "\n",
    "### Deadline Tuesday, October 10th, 23:59\n",
    "\n",
    "Do not hand in any other files, the Notebook should contain all your answers.\n",
    "\n",
    "The points for the assignment are distributed as follows:\n",
    "* The implementation\n",
    "    - prediction_function (0.5)\n",
    "    - cost_function (1)\n",
    "    - compute_gradient (1)\n",
    "    - correct double for loop (2)\n",
    "    - correct stop condition (0.5)\n",
    "    - preventing overfitting (1)\n",
    "    - systematically choosing learning rate (1) \n",
    "    - best score analysis (1)\n",
    "    - summary (1)\n",
    "    - comments (0.5)\n",
    "    - code (0.5)\n",
    "    "
   ]
  },
  {
   "cell_type": "code",
   "execution_count": 6,
   "metadata": {
    "collapsed": false
   },
   "outputs": [
    {
     "name": "stdout",
     "output_type": "stream",
     "text": [
      "Populating the interactive namespace from numpy and matplotlib\n"
     ]
    }
   ],
   "source": [
    "%pylab inline\n",
    "import numpy as np"
   ]
  },
  {
   "cell_type": "markdown",
   "metadata": {},
   "source": [
    "Scikit-learn is a toolkit that has several datasets built in. You first need to install the toolkit: http://scikit-learn.org/stable/install.html\n",
    "\n",
    "The MNIST dataset that you will be using for this assignment contains images of hand-written digits that are only 8 by 8 pixels, which means the algorithm (logistic regression) should run on every computer.\n",
    "\n",
    "The code in the cell below shows how to work with the digits dataset and  how to visualize it. As you can see the numbers are not very clear in 8x8 pixels images, this means we cannot expect our logistic regression will have a very high classification score."
   ]
  },
  {
   "cell_type": "code",
   "execution_count": 10,
   "metadata": {
    "collapsed": false
   },
   "outputs": [
    {
     "name": "stdout",
     "output_type": "stream",
     "text": [
      "The numbers shown are: \n",
      " [[0 1 2 3 4]\n",
      " [5 6 7 8 9]]\n"
     ]
    },
    {
     "data": {
      "image/png": "[encoded data removed]",
      "text/plain": [
       "<matplotlib.figure.Figure at 0x1595ff23f28>"
      ]
     },
     "metadata": {},
     "output_type": "display_data"
    }
   ],
   "source": [
    "from sklearn.datasets import load_digits\n",
    "\n",
    "digits = load_digits(n_class=10)\n",
    "\n",
    "#Create two rows with numbers\n",
    "firstrow = np.hstack(digits.images[:5,:,:])\n",
    "secondrow = np.hstack(digits.images[5:10,:,:])\n",
    "\n",
    "plt.gray()\n",
    "plt.axis('off')\n",
    "\n",
    "#Show both rows at the same time\n",
    "plt.imshow(np.vstack((firstrow,secondrow)))\n",
    "\n",
    "print(\"The numbers shown are: \\n\", np.vstack((digits.target[:5], digits.target[5:10])))"
   ]
  },
  {
   "cell_type": "markdown",
   "metadata": {},
   "source": [
    "## The implementation\n",
    "\n",
    "You have to implement the next three functions and fill in the body of the loop in order to create a correct implementation of logistic regression. Don't change the definitions of the functions and input parameters.\n",
    "\n",
    "(1) Make sure that you do not overfit by keeping track of the score on the test set and implementing a correct stop condition. \n",
    "(2) Systematically pick a learning rate alpha that makes sure the algorithm learns in a smooth and stable manner (show how you do it). \n",
    "(3) Plot how your score on the test set improves over time. My best score was about 85% correct!\n",
    "(4) Write a short summary of what you have done (and why) to accomplish steps (1), (2) and (3).\n",
    "(5) Make sure to comment your code!"
   ]
  },
  {
   "cell_type": "code",
   "execution_count": 39,
   "metadata": {
    "collapsed": false
   },
   "outputs": [],
   "source": [
    "#Make a prediction function h\n",
    "def prediction_function(x,theta):\n",
    "    z = np.dot(theta.T,x)\n",
    "    x_predict = ((1/(1+np.exp(-z))))\n",
    "    return x_predict"
   ]
  },
  {
   "cell_type": "code",
   "execution_count": 43,
   "metadata": {
    "collapsed": false
   },
   "outputs": [
    {
     "data": {
      "text/plain": [
       "array([ 0.5,  0.5,  0.5,  0.5,  0.5,  0.5,  0.5,  0.5,  0.5,  0.5])"
      ]
     },
     "execution_count": 43,
     "metadata": {},
     "output_type": "execute_result"
    }
   ],
   "source": [
    "# just checking if it does what it should\n",
    "prediction_function((x[0,:].T),zeros((64,10)))"
   ]
  },
  {
   "cell_type": "code",
   "execution_count": 201,
   "metadata": {
    "collapsed": false
   },
   "outputs": [],
   "source": [
    "#Use the output of that function to compute the cost function J:\n",
    "def cost_function(x_predict,y):  \n",
    "    cost = (dot(y, log(x_predict)) + dot((1 - y), log(1 - x_predict))) / (-x.shape[0])\n",
    "    return cost"
   ]
  },
  {
   "cell_type": "code",
   "execution_count": 202,
   "metadata": {
    "collapsed": false
   },
   "outputs": [],
   "source": [
    "#Create a function that returns the gradient values, given h (x_predict), y and x: # outer\n",
    "def compute_gradient(x_predict, y, x):\n",
    "    # I am working with a vector of size 10 and a vector of size 64. \n",
    "    #But I want my ouput to be (64x10). therefore I use outer product\n",
    "    dtheta = outer((x_predict - y),x) \n",
    "    return dtheta"
   ]
  },
  {
   "cell_type": "code",
   "execution_count": 221,
   "metadata": {
    "collapsed": false
   },
   "outputs": [],
   "source": [
    "#Choose a suitable learning rate\n",
    "alpha = 0.0001\n",
    "iterations = 250\n",
    "theta = np.zeros((64,10))\n",
    "\n",
    "#It is important to check that you're not overfitting by testing your prediction on a testset\n",
    "x = np.reshape(digits.images[:1500],(1500,64))\n",
    "x_test = np.reshape(digits.images[1500:],(297,64))\n",
    "\n",
    "target = digits.target[:1500]\n",
    "target_test = digits.target[1500:]\n",
    "\n",
    "def optimalisation(alpha,iterations,theta,x,y):\n",
    "    for i in range(iterations): \n",
    "        for j in range(x.shape[0]):      \n",
    "                x_predict = prediction_function(x[j,:].T,theta) # prediction function for each digit \n",
    "                y = np.zeros(10) # a vector of 10 zeros with which i initiate y\n",
    "                y[target[j]] = 1\n",
    "                dtheta = compute_gradient(x_predict,y,x[j,:]) \n",
    "                # updates theta\n",
    "                theta = np.add(theta, np.multiply(-(alpha/(x.shape[0])),dtheta.T))\n",
    "    return theta\n"
   ]
  },
  {
   "cell_type": "code",
   "execution_count": 222,
   "metadata": {
    "collapsed": false
   },
   "outputs": [],
   "source": [
    "theta = optimalisation(alpha,iterations,theta,x,target)"
   ]
  },
  {
   "cell_type": "code",
   "execution_count": 212,
   "metadata": {
    "collapsed": false
   },
   "outputs": [],
   "source": [
    "# this is a silly function, as it does the same thing again as the optimalisation function, \n",
    "# but this time I want to have an overview of what the cost has done during the iterations\n",
    "# so i chose to run it again\n",
    "def costarray (alpha,iterations,theta,x,y):\n",
    "    cost_array = np.array([])\n",
    "    for i in range(iterations): \n",
    "        for j in range(x.shape[0]):      \n",
    "                x_predict = prediction_function(x[j,:].T,theta) # prediction function for each digit \n",
    "                y = np.zeros(10) # a vector of 10 zeros\n",
    "                y[target[j]] = 1\n",
    "                dtheta = compute_gradient(x_predict,y,x[j,:])\n",
    "                theta = np.add(theta, np.multiply(-(alpha/(x.shape[0])),dtheta.T))\n",
    "        cost = cost_function(x_predict,y)\n",
    "        cost_array = np.append(cost_array, cost)\n",
    "    return cost_array\n"
   ]
  },
  {
   "cell_type": "code",
   "execution_count": 214,
   "metadata": {
    "collapsed": false
   },
   "outputs": [
    {
     "data": {
      "text/plain": [
       "[<matplotlib.lines.Line2D at 0x15961c6ccc0>]"
      ]
     },
     "execution_count": 214,
     "metadata": {},
     "output_type": "execute_result"
    },
    {
     "data": {
      "image/png": "[encoded data removed]",
      "text/plain": [
       "<matplotlib.figure.Figure at 0x15961c3fc50>"
      ]
     },
     "metadata": {},
     "output_type": "display_data"
    }
   ],
   "source": [
    "# showing the change of cost\n",
    "plot(arange(iterations),costarray(alpha,iterations,theta,x,target))"
   ]
  },
  {
   "cell_type": "code",
   "execution_count": 223,
   "metadata": {
    "collapsed": true
   },
   "outputs": [],
   "source": [
    "# And now I want to see how many classifications are actually correct with my optimised theta\n",
    "def correctlyclassified(x,y):\n",
    "    correct = 0\n",
    "    for j in range(x.shape[0]):\n",
    "        classj = argmax(prediction_function(x[j,:].T,theta))# finds the class of each sample\n",
    "        if classj == target[j]: # compares the predicted class to the actualy class\n",
    "            correct += 1\n",
    "    correct = (correct /(x.shape[0])) * 100 # converts the absolute amount into a percentage\n",
    "    return correct"
   ]
  },
  {
   "cell_type": "code",
   "execution_count": 224,
   "metadata": {
    "collapsed": false
   },
   "outputs": [
    {
     "data": {
      "text/plain": [
       "90.46666666666667"
      ]
     },
     "execution_count": 224,
     "metadata": {},
     "output_type": "execute_result"
    }
   ],
   "source": [
    "correctlyclassified(x,target)"
   ]
  },
  {
   "cell_type": "code",
   "execution_count": 225,
   "metadata": {
    "collapsed": false
   },
   "outputs": [
    {
     "data": {
      "text/plain": [
       "10.774410774410773"
      ]
     },
     "execution_count": 225,
     "metadata": {},
     "output_type": "execute_result"
    }
   ],
   "source": [
    "correctlyclassified(x_test,target_test)"
   ]
  },
  {
   "cell_type": "markdown",
   "metadata": {},
   "source": [
    "# conclusion\n",
    "This model uses logistic regression to classify handwritten numbers. It designs a functions in which thetas are used to manipulate the input (the colour of each pixel) to come to the right ouput (digit). This function is optimised using gradient descent. The cost function signals the extent to which the predictions are wrong. The correctlyclassified function yields the percentage of samples that were correctly classified. Firstly we can see that the cost is low and is decreasing, which is a good sign. However, we can also see that although almost all samples of the training function were correctly classified, the samples from the test function were barely. This makes my function a clear example of high-variance. This means that my model has an overfitting problem. I should solve this through regularisation. "
   ]
  },
  {
   "cell_type": "markdown",
   "metadata": {},
   "source": [
    "#### notes\n",
    "I completely understand that my function is not (at all) done. However, there is just no time anymore to complete it. It was only today that I started to understand what we're supposed to do for this logistic regression function. I have watched all the videos (multiple times), but I don't think it's fair we only practiced with linear regression, before having to do this as graded assignment. Logistic regression is a huge leap from linear regression, especially because we're also doing multivariate. Although I got the theory about it (from the videos) this is still nothing like the actual execution. So we could only use our linear regression skills. And honestly when you base your logistic regression model on linear regression, you're completely off. I did this and I had a jupyter notebook that I worked on for a week and that had 800 iterations. The execution of linear and logistic regression barely have anything in common, especially when it comes to the loop. So i really think we should have talked about logistic regression much more, before we were thrown into doing a big graded assignment. Or practiced it... Or maybe have done logistic regression with two variables first. I have put all my other courses aside for the past 4 days to do this, so I am really dissapointed I will probably have a low grade. "
   ]
  },
  {
   "cell_type": "code",
   "execution_count": null,
   "metadata": {
    "collapsed": true
   },
   "outputs": [],
   "source": []
  }
 ],
 "metadata": {
  "anaconda-cloud": {},
  "celltoolbar": "Raw Cell Format",
  "kernelspec": {
   "display_name": "Python 3",
   "language": "python",
   "name": "python3"
  },
  "language_info": {
   "codemirror_mode": {
    "name": "ipython",
    "version": 3
   },
   "file_extension": ".py",
   "mimetype": "text/x-python",
   "name": "python",
   "nbconvert_exporter": "python",
   "pygments_lexer": "ipython3",
   "version": "3.6.0"
  }
 },
 "nbformat": 4,
 "nbformat_minor": 0
}
