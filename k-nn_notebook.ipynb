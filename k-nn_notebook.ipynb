{
 "cells": [
  {
   "cell_type": "markdown",
   "metadata": {},
   "source": [
    "# AUC ML LabExercise: k - Nearest Neighbours \n",
    "Ungraded exercise, deadline Thursday 9 November, 23:59.\n"
   ]
  },
  {
   "cell_type": "code",
   "execution_count": 4,
   "metadata": {
    "collapsed": false
   },
   "outputs": [
    {
     "name": "stdout",
     "output_type": "stream",
     "text": [
      "Populating the interactive namespace from numpy and matplotlib\n"
     ]
    }
   ],
   "source": [
    "%pylab inline\n",
    "import numpy as np"
   ]
  },
  {
   "cell_type": "markdown",
   "metadata": {},
   "source": [
    "In this notebook you will implement the k-Nearest Neighbour classifier.\n",
    "\n",
    "The step-wise recipe for k-nn:\n",
    "\n",
    "(1) Handle Data: Open the dataset from CSV and split into test/train datasets.\n",
    "\n",
    "(2) Similarity: Calculate the distance between two data instances.\n",
    "\n",
    "(3) Neighbors: Locate k most similar data instances.\n",
    "\n",
    "(4) Majority vote: Get the neighbours to vote on the class of the test points.\n",
    "\n",
    "(5) Accuracy: Summarize the accuracy of predictions.\n",
    "\n",
    "\n",
    "We provide the main function that brings all the steps together and your task is to implement the missing functions.\n"
   ]
  },
  {
   "cell_type": "code",
   "execution_count": 80,
   "metadata": {
    "collapsed": true
   },
   "outputs": [],
   "source": [
    "#In this notebook we will work with the Iris dataset again\n",
    "#First we import all the modules that you need for this exrecise\n",
    "from sklearn import datasets # to load the dataset\n",
    "from sklearn.model_selection import train_test_split #to split in train and test set\n",
    "from sklearn.model_selection import cross_val_score #BONUS\n",
    "from sklearn.metrics import classification_report, accuracy_score # for reporting\n",
    "from scipy.spatial import distance #to calculate the Euclidean distance\n",
    "from collections import Counter #to count unique occurances of items in array, for majority voting"
   ]
  },
  {
   "cell_type": "code",
   "execution_count": 81,
   "metadata": {
    "collapsed": false
   },
   "outputs": [],
   "source": [
    "iris = datasets.load_iris()\n",
    "X_train, X_test, y_train, y_test = train_test_split(iris.data, iris.target, test_size=0.4) "
   ]
  },
  {
   "cell_type": "code",
   "execution_count": 98,
   "metadata": {
    "collapsed": false
   },
   "outputs": [
    {
     "name": "stdout",
     "output_type": "stream",
     "text": [
      "[[ 1.07703296]\n",
      " [ 3.22645316]]\n",
      "[ 1.07703296  3.22645316]\n"
     ]
    }
   ],
   "source": [
    "dis1 = distance.cdist(X_train[0].reshape(1,-1), X_test[0].reshape(1,-1), 'euclidean')\n",
    "dis2 = distance.cdist(X_train[1].reshape(1,-1), X_test[1].reshape(1,-1), 'euclidean')\n",
    "dists = np.concatenate((dis1,dis2))\n",
    "dists2 = np.append(dis1,dis2)\n",
    "print(dists)\n",
    "print(dists2)"
   ]
  },
  {
   "cell_type": "code",
   "execution_count": 148,
   "metadata": {
    "collapsed": false
   },
   "outputs": [],
   "source": [
    "# Missing function  1) given a training set and a test instance use \n",
    "# the euclidian distance function to calculate all pairwise distances.\n",
    "# Return a list with indexes of k nearest neighbours for a given test instance.\n",
    "def get_neighbours(training_set, test_instance, k):\n",
    "    distlist = np.array([])\n",
    "    for i in range(len(training_set)):\n",
    "        dis = distance.cdist(training_set[i].reshape(1,-1), test_instance.reshape(1,-1), 'euclidean')\n",
    "        distlist = np.append(distlist,dis)\n",
    "    neighbours = argsort(distlist)[:k]\n",
    "    return neighbours\n",
    "    \n",
    "    \n",
    "    # Calculate distances from test_instance to all training points, use the euclidean() function.\n",
    "    # Remember to save not only distances but also the index of the training example,\n",
    "    # so that when you want to choose k closest ones, you actually know which examples those are."
   ]
  },
  {
   "cell_type": "code",
   "execution_count": 149,
   "metadata": {
    "collapsed": false
   },
   "outputs": [
    {
     "name": "stdout",
     "output_type": "stream",
     "text": [
      "[62 73 40]\n"
     ]
    }
   ],
   "source": [
    "b = get_neighbours(X_train,X_test[0],3)\n",
    "print(b)"
   ]
  },
  {
   "cell_type": "code",
   "execution_count": 160,
   "metadata": {
    "collapsed": false
   },
   "outputs": [],
   "source": [
    "# Missing function 2) given an array of nearest neighbours indices, \n",
    "# tally up their classes to vote on test case class. \n",
    "# Retun the label of most common class.\n",
    "def get_majority_vote(neighbours, training_labels):\n",
    "    y_neighbour = take(training_labels,neighbours)\n",
    "    ypredictionp = Counter(y_neighbour).most_common(1)\n",
    "    yprediction = (ypredictionp[0])[0]\n",
    "    return yprediction\n",
    "    \n",
    "    # You can use the Counter() function to count unique occurances of items in array. \n",
    "    # And also a method of Counter(), to take a most common one. \n"
   ]
  },
  {
   "cell_type": "code",
   "execution_count": 161,
   "metadata": {
    "collapsed": false
   },
   "outputs": [
    {
     "name": "stdout",
     "output_type": "stream",
     "text": [
      "(90,)\n"
     ]
    },
    {
     "data": {
      "text/plain": [
       "2"
      ]
     },
     "execution_count": 161,
     "metadata": {},
     "output_type": "execute_result"
    }
   ],
   "source": [
    "print(shape(y_train))\n",
    "get_majority_vote(b,y_train)"
   ]
  },
  {
   "cell_type": "code",
   "execution_count": 176,
   "metadata": {
    "collapsed": false
   },
   "outputs": [
    {
     "name": "stdout",
     "output_type": "stream",
     "text": [
      "Classifying test instance number 0:\n",
      "Predicted label=2, Actual label=2\n",
      "Classifying test instance number 1:\n",
      "Predicted label=0, Actual label=0\n",
      "Classifying test instance number 2:\n",
      "Predicted label=2, Actual label=2\n",
      "Classifying test instance number 3:\n",
      "Predicted label=0, Actual label=0\n",
      "Classifying test instance number 4:\n",
      "Predicted label=1, Actual label=1\n",
      "Classifying test instance number 5:\n",
      "Predicted label=2, Actual label=2\n",
      "Classifying test instance number 6:\n",
      "Predicted label=0, Actual label=0\n",
      "Classifying test instance number 7:\n",
      "Predicted label=1, Actual label=1\n",
      "Classifying test instance number 8:\n",
      "Predicted label=0, Actual label=0\n",
      "Classifying test instance number 9:\n",
      "Predicted label=0, Actual label=0\n",
      "Classifying test instance number 10:\n",
      "Predicted label=1, Actual label=1\n",
      "Classifying test instance number 11:\n",
      "Predicted label=2, Actual label=2\n",
      "Classifying test instance number 12:\n",
      "Predicted label=2, Actual label=2\n",
      "Classifying test instance number 13:\n",
      "Predicted label=0, Actual label=0\n",
      "Classifying test instance number 14:\n",
      "Predicted label=0, Actual label=0\n",
      "Classifying test instance number 15:\n",
      "Predicted label=0, Actual label=0\n",
      "Classifying test instance number 16:\n",
      "Predicted label=0, Actual label=0\n",
      "Classifying test instance number 17:\n",
      "Predicted label=0, Actual label=0\n",
      "Classifying test instance number 18:\n",
      "Predicted label=0, Actual label=0\n",
      "Classifying test instance number 19:\n",
      "Predicted label=1, Actual label=1\n",
      "Classifying test instance number 20:\n",
      "Predicted label=1, Actual label=1\n",
      "Classifying test instance number 21:\n",
      "Predicted label=2, Actual label=2\n",
      "Classifying test instance number 22:\n",
      "Predicted label=0, Actual label=0\n",
      "Classifying test instance number 23:\n",
      "Predicted label=1, Actual label=2\n",
      "Classifying test instance number 24:\n",
      "Predicted label=1, Actual label=1\n",
      "Classifying test instance number 25:\n",
      "Predicted label=2, Actual label=2\n",
      "Classifying test instance number 26:\n",
      "Predicted label=1, Actual label=1\n",
      "Classifying test instance number 27:\n",
      "Predicted label=2, Actual label=2\n",
      "Classifying test instance number 28:\n",
      "Predicted label=1, Actual label=2\n",
      "Classifying test instance number 29:\n",
      "Predicted label=2, Actual label=2\n",
      "Classifying test instance number 30:\n",
      "Predicted label=2, Actual label=2\n",
      "Classifying test instance number 31:\n",
      "Predicted label=1, Actual label=1\n",
      "Classifying test instance number 32:\n",
      "Predicted label=2, Actual label=2\n",
      "Classifying test instance number 33:\n",
      "Predicted label=1, Actual label=1\n",
      "Classifying test instance number 34:\n",
      "Predicted label=1, Actual label=1\n",
      "Classifying test instance number 35:\n",
      "Predicted label=0, Actual label=0\n",
      "Classifying test instance number 36:\n",
      "Predicted label=0, Actual label=0\n",
      "Classifying test instance number 37:\n",
      "Predicted label=0, Actual label=0\n",
      "Classifying test instance number 38:\n",
      "Predicted label=0, Actual label=0\n",
      "Classifying test instance number 39:\n",
      "Predicted label=2, Actual label=2\n",
      "Classifying test instance number 40:\n",
      "Predicted label=1, Actual label=1\n",
      "Classifying test instance number 41:\n",
      "Predicted label=2, Actual label=2\n",
      "Classifying test instance number 42:\n",
      "Predicted label=0, Actual label=0\n",
      "Classifying test instance number 43:\n",
      "Predicted label=2, Actual label=2\n",
      "Classifying test instance number 44:\n",
      "Predicted label=1, Actual label=1\n",
      "Classifying test instance number 45:\n",
      "Predicted label=2, Actual label=2\n",
      "Classifying test instance number 46:\n",
      "Predicted label=2, Actual label=2\n",
      "Classifying test instance number 47:\n",
      "Predicted label=2, Actual label=2\n",
      "Classifying test instance number 48:\n",
      "Predicted label=2, Actual label=2\n",
      "Classifying test instance number 49:\n",
      "Predicted label=1, Actual label=1\n",
      "Classifying test instance number 50:\n",
      "Predicted label=0, Actual label=0\n",
      "Classifying test instance number 51:\n",
      "Predicted label=2, Actual label=2\n",
      "Classifying test instance number 52:\n",
      "Predicted label=1, Actual label=1\n",
      "Classifying test instance number 53:\n",
      "Predicted label=1, Actual label=1\n",
      "Classifying test instance number 54:\n",
      "Predicted label=2, Actual label=2\n",
      "Classifying test instance number 55:\n",
      "Predicted label=0, Actual label=0\n",
      "Classifying test instance number 56:\n",
      "Predicted label=2, Actual label=1\n",
      "Classifying test instance number 57:\n",
      "Predicted label=2, Actual label=2\n",
      "Classifying test instance number 58:\n",
      "Predicted label=2, Actual label=2\n",
      "Classifying test instance number 59:\n",
      "Predicted label=0, Actual label=0\n",
      "\n",
      "The overall accuracy of the model is: 0.95\n",
      "\n"
     ]
    }
   ],
   "source": [
    "# setting up main executable method\n",
    "def main(k):\n",
    "    predictions = []\n",
    "    k = 3   \n",
    "    # for each instance in the test set, get nearest neighbours and majority vote on predicted class\n",
    "    predictions2 = np.array([])\n",
    "    for x in range(len(X_test)):\n",
    "            print('Classifying test instance number ' + str(x) + \":\")\n",
    "            neighbours = get_neighbours(X_train, X_test[x], k)\n",
    "            majority_vote = get_majority_vote(neighbours, y_train)\n",
    "            predictions.append(majority_vote)\n",
    "            print('Predicted label=' + str(majority_vote) + ', Actual label=' + str(y_test[x]))\n",
    "            predictions2 = np.append(predictions,majority_vote)\n",
    "    return predictions2\n",
    "\n",
    "predictions = main(3)\n",
    "\n",
    " \n",
    "    # summarize performance of the classification\n",
    "def accuracy_score(training_labels,yprediction):\n",
    "    score = 0\n",
    "    for i in range(len(y_test)):\n",
    "        if training_labels[i] == yprediction[i]:\n",
    "            score += 1\n",
    "    return score/len(y_test)\n",
    "print('\\nThe overall accuracy of the model is: ' + str(accuracy_score(y_test, predictions)) + \"\\n\")\n",
    "    \n",
    "    #BONUS: study function classification_report to find out how to produce \n",
    "    #       a detailes classification report\n",
    "    #       report = classification_report(...)\n",
    "    #       print('A detailed classification report: \\n\\n' + report)\n",
    "    \n",
    "    \n",
    "    # BONUS: in this implementation we arbitrarily chose k=3. \n",
    "    #        We could have chosen other values, which would influence accuracy. \n",
    "    #        Ideally, k would be optimized by seeing which value \n",
    "    #        produces the most accurate predictions. \n",
    "    #        Implement this using cross-validation. \n",
    "\n",
    "#main()\n"
   ]
  },
  {
   "cell_type": "code",
   "execution_count": 174,
   "metadata": {
    "collapsed": false
   },
   "outputs": [
    {
     "data": {
      "text/plain": [
       "0.95"
      ]
     },
     "execution_count": 174,
     "metadata": {},
     "output_type": "execute_result"
    }
   ],
   "source": [
    "accuracy_score(y_test,predictions)"
   ]
  },
  {
   "cell_type": "code",
   "execution_count": null,
   "metadata": {
    "collapsed": true
   },
   "outputs": [],
   "source": []
  }
 ],
 "metadata": {
  "kernelspec": {
   "display_name": "Python 3",
   "language": "python",
   "name": "python3"
  },
  "language_info": {
   "codemirror_mode": {
    "name": "ipython",
    "version": 3
   },
   "file_extension": ".py",
   "mimetype": "text/x-python",
   "name": "python",
   "nbconvert_exporter": "python",
   "pygments_lexer": "ipython3",
   "version": "3.6.0"
  }
 },
 "nbformat": 4,
 "nbformat_minor": 2
}
